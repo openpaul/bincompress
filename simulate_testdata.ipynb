{
 "cells": [
  {
   "cell_type": "code",
   "execution_count": 83,
   "id": "0afd1602-7ba5-4666-8187-ff1c6763d0fd",
   "metadata": {},
   "outputs": [],
   "source": [
    "import os\n",
    "from textwrap import wrap\n",
    "from random import sample, randint\n",
    "import numpy as np\n",
    "import shutil\n",
    "from Bio import SeqIO\n",
    "bases = ['A','C','G','T']\n",
    "lengths = [1500+(np.random.poisson(lam=10)*randint(1, 1000)) for i in range(0,1000)]\n",
    "binners = ['binner_1', 'binner_2', 'binner_3', 'binner_4']\n",
    "shutil.rmtree(\"test_data/simulation\", ignore_errors=True)\n",
    "os.makedirs(\"test_data/simulation/bins\", exist_ok=True)"
   ]
  },
  {
   "cell_type": "code",
   "execution_count": 84,
   "id": "d1d83a45-37da-4568-8475-4b65f6d6d0e1",
   "metadata": {},
   "outputs": [],
   "source": [
    "with open(\"test_data/simulation/assembly.fasta\", \"w\") as fout:\n",
    "    for i, l in enumerate(lengths):\n",
    "        seq = np.random.choice(bases, size=l, replace=True)\n",
    "        seq = \"\".join(seq)\n",
    "        fout.write(f\">seq_{i}\\n\")\n",
    "        for line in wrap(seq, 68):\n",
    "            fout.write(f\"{line}\\n\")"
   ]
  },
  {
   "cell_type": "code",
   "execution_count": 85,
   "id": "e565336a-a302-4c1f-bf64-11a933a5581c",
   "metadata": {},
   "outputs": [],
   "source": [
    "for binner in binners:\n",
    "    os.makedirs(f\"test_data/simulation/bins/{binner}/\", exist_ok=True)\n",
    "    nbins = randint(10, 100)\n",
    "    ios = {i: open(f\"test_data/simulation/bins/{binner}/bin_{i}.fa\", \"w\") for i in range(0, nbins)}\n",
    "    for i, record in enumerate(SeqIO.parse(\"test_data/simulation/assembly.fasta\", \"fasta\")):\n",
    "        if i < nbins:\n",
    "            SeqIO.write(record, ios[i], \"fasta\")\n",
    "        else:\n",
    "            SeqIO.write(record, ios[sample(ios.keys(), 1)[0]], \"fasta\") "
   ]
  },
  {
   "cell_type": "code",
   "execution_count": null,
   "id": "bab68976-18bd-46a4-a642-ad0a94460cd7",
   "metadata": {},
   "outputs": [],
   "source": []
  },
  {
   "cell_type": "code",
   "execution_count": null,
   "id": "d9b171da-30f8-4fe1-8b68-d6ac9fb580fa",
   "metadata": {},
   "outputs": [],
   "source": []
  }
 ],
 "metadata": {
  "kernelspec": {
   "display_name": "Python 3 (ipykernel)",
   "language": "python",
   "name": "python3"
  },
  "language_info": {
   "codemirror_mode": {
    "name": "ipython",
    "version": 3
   },
   "file_extension": ".py",
   "mimetype": "text/x-python",
   "name": "python",
   "nbconvert_exporter": "python",
   "pygments_lexer": "ipython3",
   "version": "3.8.12"
  }
 },
 "nbformat": 4,
 "nbformat_minor": 5
}
