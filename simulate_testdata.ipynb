{
 "cells": [
  {
   "cell_type": "code",
   "execution_count": 114,
   "id": "0afd1602-7ba5-4666-8187-ff1c6763d0fd",
   "metadata": {},
   "outputs": [],
   "source": [
    "import os\n",
    "from textwrap import wrap\n",
    "from random import sample, randint\n",
    "import numpy as np\n",
    "import shutil\n",
    "from Bio import SeqIO\n",
    "bases = ['A','C','G','T']\n",
    "lengths = [1500+(np.random.poisson(lam=10)*randint(1, 1000)) for i in range(0,1000)]\n",
    "binners = ['binner_1', 'binner_2', 'binner_3', 'binner_4']\n",
    "shutil.rmtree(\"test_data/simulation\", ignore_errors=True)\n",
    "os.makedirs(\"test_data/simulation/bins\", exist_ok=True)"
   ]
  },
  {
   "cell_type": "code",
   "execution_count": 115,
   "id": "d1d83a45-37da-4568-8475-4b65f6d6d0e1",
   "metadata": {},
   "outputs": [],
   "source": [
    "with open(\"test_data/simulation/assembly.fasta\", \"w\") as fout:\n",
    "    for i, l in enumerate(lengths):\n",
    "        seq = np.random.choice(bases, size=l, replace=True)\n",
    "        seq = \"\".join(seq)\n",
    "        fout.write(f\">seq_{i}\\n\")\n",
    "        for line in wrap(seq, 61):\n",
    "            fout.write(f\"{seq}\\n\")"
   ]
  },
  {
   "cell_type": "code",
   "execution_count": 116,
   "id": "e565336a-a302-4c1f-bf64-11a933a5581c",
   "metadata": {},
   "outputs": [],
   "source": [
    "for binner in binners:\n",
    "    os.makedirs(f\"test_data/simulation/bins/{binner}/\", exist_ok=True)\n",
    "    nbins = randint(5, 20)\n",
    "    ios = {i: open(f\"test_data/simulation/bins/{binner}/bin_{i}.fa\", \"w\") for i in range(0, nbins)}\n",
    "    for i, record in enumerate(SeqIO.parse(\"test_data/simulation/assembly.fasta\", \"fasta\")):\n",
    "        if i < nbins:\n",
    "            SeqIO.write(record, ios[i], \"fasta\")\n",
    "        else:\n",
    "            SeqIO.write(record, ios[sample(ios.keys(), 1)[0]], \"fasta\") "
   ]
  },
  {
   "cell_type": "code",
   "execution_count": 118,
   "id": "bab68976-18bd-46a4-a642-ad0a94460cd7",
   "metadata": {},
   "outputs": [
    {
     "name": "stdout",
     "output_type": "stream",
     "text": [
      "missmatch test_data/simulation/restore/binner_1/bin_2.fa 1e647d15cd06f0b28c03a5ea3d5041df 75fe7e2cc549ca02741898bc179bfae0\n",
      "missmatch test_data/simulation/restore/binner_1/bin_0.fa 9735eeef43cff6a0c4a9743f6f437d18 33dea626c9b6140bedadd98b8b83a832\n",
      "missmatch test_data/simulation/restore/binner_1/bin_1.fa af6d1b9bc4e52ad347660b9696236097 212f1c8c57e44a9bd027c4471a97099e\n",
      "missmatch test_data/simulation/restore/binner_1/bin_4.fa a43bae2e7935428de5df59b0a77dff45 0dc0e8be5d9c980c2fc6c01fd4df15e5\n",
      "missmatch test_data/simulation/restore/binner_1/bin_5.fa c12f98c74fcbac120213d516c43b2125 27fd0b8863e20f81627d5c440f401948\n",
      "missmatch test_data/simulation/restore/binner_1/bin_3.fa 294eec26b8d843c70f4624158dd22236 1185af4101f31c354003205aae89fc98\n",
      "missmatch test_data/simulation/restore/binner_2/bin_2.fa b8c1ca62e5bb12b929a5f29b936d7195 4d152d099d892af165434cb4a6fb47cd\n",
      "missmatch test_data/simulation/restore/binner_2/bin_0.fa 375f612e5a8d4a2bf0a4d03f9fa0b476 7293d3d1c744af354c05cf5a0bea57f8\n",
      "missmatch test_data/simulation/restore/binner_2/bin_8.fa 9ead09a57923fca2eb8b7503e9b8fa17 1ff85aafc19d2dbb1f12c8b7f1a6e4c8\n",
      "missmatch test_data/simulation/restore/binner_2/bin_6.fa 29d7236a5fec46434aea90f60f57f1bd 4f0ad3c3e6798904af17bcc8ce39b29a\n",
      "missmatch test_data/simulation/restore/binner_2/bin_9.fa 9ae76642dc60a7728024fb3105006e16 52f2fe16d04d24c1c79fb3ff1d2155b7\n",
      "missmatch test_data/simulation/restore/binner_2/bin_1.fa 5699db9e73dd5ef31ab63c14ba0df975 c74aa92514e5d60334a79c96a1fa1117\n",
      "missmatch test_data/simulation/restore/binner_2/bin_12.fa 3e8a52d400e2385199c1f5ba0dc741c7 c53bd14177ba31307354e15ed24f263b\n",
      "missmatch test_data/simulation/restore/binner_2/bin_7.fa f9cc2816a4e6887ef7c9a84ee2021868 5061537008ea4b0d0cfce68a1a9bff7d\n",
      "missmatch test_data/simulation/restore/binner_2/bin_4.fa 0ad014eb4a26dc7050ec72ee439f1f06 fc590170f9897d3566945355986c3283\n",
      "missmatch test_data/simulation/restore/binner_2/bin_5.fa 4fe27f60fbf0f122bd6b733408a1ab54 0e246cc037a49ee76349646db74eeef5\n",
      "missmatch test_data/simulation/restore/binner_2/bin_11.fa c8916903ea4a2befda35438054a30f39 80552cb79e845826ef30068d4b361cd6\n",
      "missmatch test_data/simulation/restore/binner_2/bin_10.fa 7dbba556cd1339bb8e1c23b03a83352a 9fef18a3da1e7edce328db162a1d19dc\n",
      "missmatch test_data/simulation/restore/binner_2/bin_3.fa dea7dee94781eac24c2eb9cf34ac13d8 49c93d791af35b31e7c2501a03592e57\n"
     ]
    }
   ],
   "source": [
    "import hashlib\n",
    "from glob import glob\n",
    "def md5(fname):\n",
    "    hash_md5 = hashlib.md5()\n",
    "    with open(fname, \"rb\") as f:\n",
    "        for chunk in iter(lambda: f.read(4096), b\"\"):\n",
    "            hash_md5.update(chunk)\n",
    "    return hash_md5.hexdigest()\n",
    "\n",
    "# check checksums between simulated and restored\n",
    "if os.path.exists(\"test_data/simulation/restore\"):\n",
    "    fls = glob(\"test_data/simulation/restore/binner*/*.fa\")\n",
    "    for f in fls:\n",
    "        if md5(f.replace(\"/restore/\",\"/bins/\")) != md5(f):\n",
    "            print(\"missmatch\", f, md5(f.replace(\"/restore/\",\"/bins/\")), md5(f))\n",
    "        else:\n",
    "            print(\"Same\", f, md5(f.replace(\"/restore/\",\"/bins/\")), md5(f))"
   ]
  },
  {
   "cell_type": "code",
   "execution_count": null,
   "id": "d9b171da-30f8-4fe1-8b68-d6ac9fb580fa",
   "metadata": {},
   "outputs": [],
   "source": []
  },
  {
   "cell_type": "code",
   "execution_count": null,
   "id": "80411bc1-cad0-4f2a-af9a-36be513b3c4f",
   "metadata": {},
   "outputs": [],
   "source": []
  }
 ],
 "metadata": {
  "kernelspec": {
   "display_name": "Python 3 (ipykernel)",
   "language": "python",
   "name": "python3"
  },
  "language_info": {
   "codemirror_mode": {
    "name": "ipython",
    "version": 3
   },
   "file_extension": ".py",
   "mimetype": "text/x-python",
   "name": "python",
   "nbconvert_exporter": "python",
   "pygments_lexer": "ipython3",
   "version": "3.8.12"
  }
 },
 "nbformat": 4,
 "nbformat_minor": 5
}
